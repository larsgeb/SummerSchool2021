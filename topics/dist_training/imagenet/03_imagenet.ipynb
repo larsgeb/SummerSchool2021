{
 "cells": [
  {
   "cell_type": "markdown",
   "metadata": {},
   "source": [
    "# Training a model on the ImageNet dataset"
   ]
  },
  {
   "cell_type": "code",
   "execution_count": 1,
   "metadata": {},
   "outputs": [
    {
     "data": {
      "text/plain": [
       "('2.5.0', [PhysicalDevice(name='/physical_device:GPU:0', device_type='GPU')])"
      ]
     },
     "execution_count": 1,
     "metadata": {},
     "output_type": "execute_result"
    }
   ],
   "source": [
    "import os\n",
    "import glob\n",
    "from datetime import datetime\n",
    "import numpy as np\n",
    "import pandas as pd\n",
    "import tensorflow as tf\n",
    "import matplotlib.pyplot as plt\n",
    "\n",
    "import albumentations as alb\n",
    "\n",
    "from utils import *\n",
    "\n",
    "gpus = tf.config.list_physical_devices('GPU')\n",
    "tf.version.VERSION, gpus"
   ]
  },
  {
   "cell_type": "code",
   "execution_count": 2,
   "metadata": {},
   "outputs": [],
   "source": [
    "# don't let TF allocate all GPU RAM, so we can check the amount actually being used\n",
    "tf.config.experimental.set_memory_growth(gpus[0], True)"
   ]
  },
  {
   "cell_type": "code",
   "execution_count": 3,
   "metadata": {},
   "outputs": [
    {
     "data": {
      "text/plain": [
       "(1024, 128)"
      ]
     },
     "execution_count": 3,
     "metadata": {},
     "output_type": "execute_result"
    }
   ],
   "source": [
    "train_files = sorted(glob.glob('/scratch/snx3000/datasets/imagenet/ILSVRC2012_1k/train/*'))\n",
    "valid_files = sorted(glob.glob('/scratch/snx3000/datasets/imagenet/ILSVRC2012_1k/validation/*'))\n",
    "len(train_files), len(valid_files)"
   ]
  },
  {
   "cell_type": "code",
   "execution_count": 4,
   "metadata": {},
   "outputs": [],
   "source": [
    "image_shape = (224, 224)\n",
    "\n",
    "def process_image(serialized_example, transforms):\n",
    "    ''' decode and augment images '''\n",
    "    features = tf.io.parse_single_example(\n",
    "        serialized_example,\n",
    "        features={\n",
    "            'image/encoded': tf.io.FixedLenFeature([], tf.string),\n",
    "            'image/class/label': tf.io.FixedLenFeature([], tf.int64),\n",
    "        })\n",
    "    image = tf.image.decode_jpeg(features['image/encoded'], channels=3)\n",
    "    label = tf.cast(features['image/class/label'], tf.int64) - 1  # [0-999]\n",
    "    \n",
    "    image_aug = lambda img: transforms(image=img)[\"image\"]\n",
    "    aug_img = tf.numpy_function(func=image_aug, inp=[image], Tout=tf.float32)\n",
    "    return aug_img, label"
   ]
  },
  {
   "cell_type": "code",
   "execution_count": 5,
   "metadata": {},
   "outputs": [],
   "source": [
    "train_transforms = alb.Compose([\n",
    "            alb.ShiftScaleRotate(shift_limit=0.05, scale_limit=0.1, rotate_limit=30),\n",
    "            alb.HorizontalFlip(p=0.5),\n",
    "            alb.OneOf([ # Add or remove noise\n",
    "                alb.GaussNoise(var_limit=(50, 200)),\n",
    "                alb.ImageCompression(quality_lower=80, quality_upper=95),\n",
    "                alb.GaussianBlur(sigma_limit=(2, 10)),\n",
    "            ], p=1),\n",
    "            alb.SomeOf([ # Color ops\n",
    "                alb.ToGray(p=0.1),\n",
    "                alb.Equalize(by_channels=False),\n",
    "                alb.RGBShift(r_shift_limit=10, g_shift_limit=10, b_shift_limit=10),\n",
    "                alb.RandomGamma(gamma_limit=(90, 110)),\n",
    "                alb.HueSaturationValue(hue_shift_limit=5, sat_shift_limit=10, val_shift_limit=10),\n",
    "                alb.RandomBrightnessContrast(brightness_limit=(-0.1, 0.1), contrast_limit=(-0.2, 0.2)),\n",
    "            ], n=2),\n",
    "            alb.RandomResizedCrop(*image_shape, scale=(0.9, 1.1), ratio=(0.9, 1.1)),\n",
    "            alb.Normalize(mean=(0.485, 0.456, 0.406), std=(0.229, 0.224, 0.225)),\n",
    "        ])\n",
    "\n",
    "valid_transforms = alb.Compose([\n",
    "            alb.SmallestMaxSize(max_size=image_shape[0]),\n",
    "            alb.CenterCrop(*image_shape),\n",
    "            alb.Normalize(mean=(0.485, 0.456, 0.406), std=(0.229, 0.224, 0.225)),\n",
    "        ])"
   ]
  },
  {
   "cell_type": "code",
   "execution_count": 6,
   "metadata": {},
   "outputs": [],
   "source": [
    "epochs = 1\n",
    "batch_size = 128\n",
    "valid_samples, train_samples = 50000, 1281167\n",
    "validation_steps = valid_samples // batch_size\n",
    "steps_per_epoch = train_samples // batch_size\n",
    "\n",
    "AUTO = tf.data.experimental.AUTOTUNE\n",
    "\n",
    "def get_ds(tfrecords, transforms, batch_size, cache=False, shuffle_buffer=None):\n",
    "    dataset = tf.data.TFRecordDataset(tfrecords)\n",
    "\n",
    "    if cache:\n",
    "        dataset = dataset.cache()\n",
    "\n",
    "    if shuffle_buffer:\n",
    "        dataset = dataset.shuffle(buffer_size=shuffle_buffer,\n",
    "                                  reshuffle_each_iteration=True)\n",
    "\n",
    "    # decode and augment images\n",
    "    decode_aug = lambda img: process_image(img, transforms)\n",
    "    dataset = dataset.map(decode_aug, num_parallel_calls=AUTO)\n",
    "\n",
    "    dataset = dataset.batch(batch_size)\n",
    "    dataset = dataset.prefetch(buffer_size=AUTO)\n",
    "    return dataset\n",
    "\n",
    "valid_ds = get_ds(valid_files, valid_transforms, batch_size, cache=True)\n",
    "train_ds = get_ds(train_files, train_transforms, batch_size, shuffle_buffer=1024)"
   ]
  },
  {
   "cell_type": "code",
   "execution_count": 7,
   "metadata": {},
   "outputs": [],
   "source": [
    "# for images, labels in valid_ds.take(1):\n",
    "#     print('Image shape:', images.shape, 'Labels:', labels.numpy())\n",
    "\n",
    "# plot_grid(images[:6].numpy(), 'Sample images', rows=1, figsize=(16, 3))\n",
    "# plt.show()\n",
    "\n",
    "# pd.DataFrame(images.numpy().ravel()).describe().T"
   ]
  },
  {
   "cell_type": "code",
   "execution_count": 8,
   "metadata": {},
   "outputs": [],
   "source": [
    "model = tf.keras.applications.ResNet50V2(include_top=True, classes=1000, weights=None)\n",
    "\n",
    "# model.summary()\n",
    "\n",
    "# w1 = model.weights[0].numpy()\n",
    "# plot_grid(w1.transpose(3, 0, 1, 2), 'ImageNet kernels', figsize=(8.8, 9))\n",
    "# w1.shape"
   ]
  },
  {
   "cell_type": "code",
   "execution_count": 9,
   "metadata": {},
   "outputs": [],
   "source": [
    "lr_schedule = tf.keras.optimizers.schedules.CosineDecay(\n",
    "    initial_learning_rate=0.1,\n",
    "    alpha=0.01,\n",
    "    decay_steps=steps_per_epoch*epochs\n",
    ")\n",
    "\n",
    "optimizer = tf.keras.optimizers.SGD(learning_rate=lr_schedule, momentum=0.95)\n",
    "\n",
    "model.compile(optimizer=optimizer,\n",
    "              loss='sparse_categorical_crossentropy',\n",
    "              metrics=['accuracy',\n",
    "                       tf.keras.metrics.SparseTopKCategoricalAccuracy(k=5, name=\"Top5\")])"
   ]
  },
  {
   "cell_type": "code",
   "execution_count": 10,
   "metadata": {
    "collapsed": true,
    "jupyter": {
     "outputs_hidden": true
    }
   },
   "outputs": [
    {
     "data": {
      "text/html": [
       "\n",
       "      <iframe id=\"tensorboard-frame-be70fcc7ffe32b1e\" width=\"100%\" height=\"800\" frameborder=\"0\">\n",
       "      </iframe>\n",
       "      <script>\n",
       "        (function() {\n",
       "          const frame = document.getElementById(\"tensorboard-frame-be70fcc7ffe32b1e\");\n",
       "          const url = new URL(\"https://dealmeih.jupyter.cscs.ch/hub/user-redirect/proxy/6006/\", window.location);\n",
       "          const port = 0;\n",
       "          if (port) {\n",
       "            url.port = port;\n",
       "          }\n",
       "          frame.src = url;\n",
       "        })();\n",
       "      </script>\n",
       "    "
      ],
      "text/plain": [
       "<IPython.core.display.HTML object>"
      ]
     },
     "metadata": {},
     "output_type": "display_data"
    }
   ],
   "source": [
    "tb_callback = tf.keras.callbacks.TensorBoard(\n",
    "    log_dir=os.path.join(os.environ['SCRATCH'], 'imagenet_runs', datetime.now().strftime(\"%y%m%d-%H%M\")),\n",
    "    histogram_freq=1,\n",
    "    update_freq=100, # batches\n",
    ")\n",
    "\n",
    "%reload_ext tensorboard\n",
    "%tensorboard --logdir=imagenet_runs"
   ]
  },
  {
   "cell_type": "code",
   "execution_count": 11,
   "metadata": {},
   "outputs": [
    {
     "name": "stderr",
     "output_type": "stream",
     "text": [
      "/apps/daint/UES/6.0.UP04/sandboxes/sarafael/mc-sumsch-2021/lib/python3.7/site-packages/tensorflow/python/keras/utils/generic_utils.py:497: CustomMaskWarning: Custom mask layers require a config and must override get_config. When loading, the custom mask layer must be passed to the custom_objects argument.\n",
      "  category=CustomMaskWarning)\n"
     ]
    },
    {
     "name": "stdout",
     "output_type": "stream",
     "text": [
      "10009/10009 [==============================] - 5805s 579ms/step - loss: 4.9214 - accuracy: 0.1224 - Top5: 0.2705 - val_loss: 3.5226 - val_accuracy: 0.2763 - val_Top5: 0.5138\n"
     ]
    }
   ],
   "source": [
    "fit = model.fit(\n",
    "    train_ds,\n",
    "    steps_per_epoch=steps_per_epoch,\n",
    "    validation_data=valid_ds,\n",
    "    validation_steps=validation_steps,\n",
    "    epochs=epochs,\n",
    "    callbacks=[tb_callback],\n",
    ")"
   ]
  },
  {
   "cell_type": "code",
   "execution_count": 12,
   "metadata": {},
   "outputs": [
    {
     "data": {
      "text/plain": [
       "(7, 7, 3, 64)"
      ]
     },
     "execution_count": 12,
     "metadata": {},
     "output_type": "execute_result"
    },
    {
     "data": {
      "image/png": "[encoded data removed]",
      "text/plain": [
       "<Figure size 633.6x648 with 64 Axes>"
      ]
     },
     "metadata": {
      "needs_background": "light"
     },
     "output_type": "display_data"
    }
   ],
   "source": [
    "w1 = model.weights[0].numpy()\n",
    "plot_grid(w1.transpose(3, 0, 1, 2), 'ImageNet kernels', figsize=(8.8, 9))\n",
    "w1.shape"
   ]
  }
 ],
 "metadata": {
  "kernelspec": {
   "display_name": "ss2021",
   "language": "python",
   "name": "ss2021"
  },
  "language_info": {
   "codemirror_mode": {
    "name": "ipython",
    "version": 3
   },
   "file_extension": ".py",
   "mimetype": "text/x-python",
   "name": "python",
   "nbconvert_exporter": "python",
   "pygments_lexer": "ipython3",
   "version": "3.7.7"
  }
 },
 "nbformat": 4,
 "nbformat_minor": 4
}
