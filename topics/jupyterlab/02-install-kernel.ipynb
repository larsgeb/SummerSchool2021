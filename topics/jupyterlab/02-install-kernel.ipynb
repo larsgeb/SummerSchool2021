{
 "cells": [
  {
   "cell_type": "markdown",
   "metadata": {
    "slideshow": {
     "slide_type": "slide"
    }
   },
   "source": [
    "# Installing a Custom Kernel\n",
    "\n",
    "_Tim Robinson, CSCS_\n",
    "\n",
    "A Jupyter notebook is attached to a **kernel**, which runs the code. A `Python 3` kernel is provided by default.  \n",
    "\n",
    "Here we will **install a custom kernel** which loads a **conda environment** which has been created specifically for this course. It includes (amongst other things) `numba` (a JIT compiler for numerical functions in Python), `cupy` (numpy-like API for NVIDIA GPUs) and `TensorFlow`.  \n",
    "\n",
    "JupyterLab looks for user-installed kernels in `$HOME/.local/share/jupyter/kernels/`, so this is where we will install it. \n",
    "\n",
    "<div class=\"alert alert-block alert-info\">\n",
    "<b>Tip:</b> This week we will mostly be using the kernel we are about to install (ss2021). So if you find that you can't import tensorflow, for example, please check you are using the kernel ss2021 (check the top right of the workspace, or the extreme bottom left).\n",
    "</div>\n",
    "\n",
    "We will install our new kernel by issuing commands directly from this notebook. The most important file in a kernel directory is `kernel.json`. This is a JSON serialised dictionary containing the following keys and values (and some optional others):\n",
    "- `argv`: list of command line arguments used to start the kernel. The text `{connection_file}` in any argument will be replaced with the path to the connection file (this specifies how to set up communications with the frontend).\n",
    "- `display_name`: The kernel’s name in the user interface. \n",
    "- `language`: The name of the language of the kernel. "
   ]
  },
  {
   "cell_type": "markdown",
   "metadata": {
    "slideshow": {
     "slide_type": "slide"
    }
   },
   "source": [
    "First, create a directory to hold your kernel using the `!` operator:"
   ]
  },
  {
   "cell_type": "code",
   "execution_count": null,
   "metadata": {
    "slideshow": {
     "slide_type": "fragment"
    }
   },
   "outputs": [],
   "source": [
    "! mkdir -p ~/.local/share/jupyter/kernels/ss2021/"
   ]
  },
  {
   "cell_type": "markdown",
   "metadata": {
    "slideshow": {
     "slide_type": "slide"
    }
   },
   "source": [
    "Now, write the `kernel.json` file in that directory, using the `%%bash` magic. We add the path to a custom helper script called `launcher`."
   ]
  },
  {
   "cell_type": "code",
   "execution_count": null,
   "metadata": {},
   "outputs": [],
   "source": [
    "%%bash\n",
    "/bin/cat <<EOM > ~/.local/share/jupyter/kernels/ss2021/kernel.json\n",
    "{\n",
    " \"display_name\": \"ss2021\",\n",
    " \"language\": \"python\",\n",
    " \"argv\": [\n",
    " \"/users/$USER/.local/share/jupyter/kernels/ss2021/launcher\",\n",
    " \"-f\",\n",
    " \"{connection_file}\"\n",
    " ]\n",
    "}\n",
    "EOM"
   ]
  },
  {
   "cell_type": "markdown",
   "metadata": {
    "slideshow": {
     "slide_type": "slide"
    }
   },
   "source": [
    "Now, create the `launcher` script with the `%%writefile` magic (or by any other means!):"
   ]
  },
  {
   "cell_type": "code",
   "execution_count": null,
   "metadata": {
    "slideshow": {
     "slide_type": "fragment"
    }
   },
   "outputs": [],
   "source": [
    "%%writefile ~/.local/share/jupyter/kernels/ss2021/launcher\n",
    "#!/usr/bin/env bash\n",
    "\n",
    "export PYTHONPATH=''\n",
    "if [ \"$SOURCE_JUPYTERHUBENV\" == true ]; then\n",
    "    source $HOME/.jupyterhub.env\n",
    "fi\n",
    "\n",
    "export TENSORBOARD_PROXY_URL=https://$USER.jupyter.cscs.ch/hub/user-redirect/proxy/%PORT%/\n",
    "export TENSORBOARD_BINARY=/apps/daint/UES/6.0.UP04/sandboxes/sarafael/mc-sumsch-2021/bin/tensorboard\n",
    "\n",
    "module load daint-gpu\n",
    "module load /apps/daint/UES/6.0.UP04/sandboxes/sarafael/modules/all/cuDNN/8.1.0\n",
    "source /apps/daint/UES/6.0.UP04/sandboxes/sarafael/mc-sumsch-2021/etc/profile.d/conda.sh\n",
    "conda activate\n",
    "\n",
    "/apps/daint/UES/6.0.UP04/sandboxes/sarafael/mc-sumsch-2021/bin/python -m ipykernel_launcher $@"
   ]
  },
  {
   "cell_type": "markdown",
   "metadata": {
    "slideshow": {
     "slide_type": "slide"
    }
   },
   "source": [
    "Finally, make the custom launcher script executable:"
   ]
  },
  {
   "cell_type": "code",
   "execution_count": null,
   "metadata": {
    "slideshow": {
     "slide_type": "fragment"
    }
   },
   "outputs": [],
   "source": [
    "! chmod +x ~/.local/share/jupyter/kernels/ss2021/launcher"
   ]
  },
  {
   "cell_type": "markdown",
   "metadata": {},
   "source": [
    "\n",
    "We might also like our conda environment to be activated automatically when we start a Terminal from JupyterLab. Uncomment and execute the following cell to enable this:\n",
    "    "
   ]
  },
  {
   "cell_type": "code",
   "execution_count": null,
   "metadata": {},
   "outputs": [],
   "source": [
    "#! echo \". /apps/daint/UES/6.0.UP04/sandboxes/sarafael/mc-sumsch-2021/bin/activate\" >> ~/.bashrc"
   ]
  },
  {
   "cell_type": "markdown",
   "metadata": {},
   "source": [
    "## Before switching to new kernel\n",
    "\n",
    "**Before** switching to the new kernel:\n",
    "\n",
    "<div class=\"alert alert-warning alert-block alert-info\"><b>Exercise:</b> What version of numpy is provided in the default Python 3 kernel? </div>\n",
    "<div class=\"alert alert-warning alert-block alert-info\"><b>Exercise:</b> And what is the location of numpy?</div>\n",
    "<div class=\"alert alert-warning alert-block alert-info\"><b>Exercise:</b> Confirm TensorFlow is not there</div>"
   ]
  },
  {
   "cell_type": "markdown",
   "metadata": {
    "slideshow": {
     "slide_type": "slide"
    }
   },
   "source": [
    "## Now attach to the new kernel\n",
    "\n",
    "Attach this notebook to the kernel you have just created. You can do this in a number of different ways:\n",
    "- Via the Main Menu (Kernel -> Change Kernel -> \"ss2021\")\n",
    "- By clicking on \"Python 3\" at the top right of the notebook tab -> \"ss2021\"\n",
    "- By clicking on \"Python 3\" on the JupyterLab bottom toolbar and selecting \"ss2021\"\n",
    "- By searching for \"Change Kernel\" in the Command Palette...\n",
    "\n",
    "The new kernel will also be available when creating new notebooks via the Launcher.\n"
   ]
  },
  {
   "cell_type": "markdown",
   "metadata": {
    "slideshow": {
     "slide_type": "slide"
    }
   },
   "source": [
    "<div class=\"alert alert-warning alert-block alert-info\"><b>Exercise:</b> Verify you have switched kernel and you can execute code - What version of numpy is provided in the new kernel? And where is it located?</div>"
   ]
  },
  {
   "cell_type": "markdown",
   "metadata": {},
   "source": [
    "<div class=\"alert alert-warning alert-block alert-info\"><b>Exercise:</b> Check you can import tensorflow</div>"
   ]
  },
  {
   "cell_type": "markdown",
   "metadata": {},
   "source": [
    "<div class=\"alert alert-warning alert-block alert-info\"><b>Exercise:</b> Determine what computational resources are available on the node using Numba (!numba -s). Do the resources match what you expect from last week?\n",
    "\n",
    "- How many CPU sockets, how many cores? What architecture...?\n",
    "- Does it find the correct GPU device type, architecture...? </div>"
   ]
  },
  {
   "cell_type": "markdown",
   "metadata": {},
   "source": [
    "## GPU dashboards\n",
    "NVdashboard is a JupyterLab extension for doing real-time visualization of NVIDIA GPU metrics in JupyterLab. \n",
    "\n",
    "It’s useful for quickly verifying that the GPU is actually being used, for checking memory usage etc.\n",
    "\n",
    "You can fnd the dashboards on the left side bar.  "
   ]
  }
 ],
 "metadata": {
  "kernelspec": {
   "display_name": "ss2021",
   "language": "python",
   "name": "ss2021"
  },
  "language_info": {
   "codemirror_mode": {
    "name": "ipython",
    "version": 3
   },
   "file_extension": ".py",
   "mimetype": "text/x-python",
   "name": "python",
   "nbconvert_exporter": "python",
   "pygments_lexer": "ipython3",
   "version": "3.7.7"
  }
 },
 "nbformat": 4,
 "nbformat_minor": 4
}
